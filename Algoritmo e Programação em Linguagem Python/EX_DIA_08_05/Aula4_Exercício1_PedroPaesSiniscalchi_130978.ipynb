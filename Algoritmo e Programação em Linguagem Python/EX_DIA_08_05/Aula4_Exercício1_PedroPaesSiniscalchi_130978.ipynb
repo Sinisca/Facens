{
 "cells": [
  {
   "cell_type": "code",
   "execution_count": 1,
   "metadata": {},
   "outputs": [
    {
     "name": "stdout",
     "output_type": "stream",
     "text": [
      "Para K = 2 a saída é:  (1, 2)\n",
      "Para K = 3 a saída é:  (3, 8)\n",
      "Para K = 4 a saída é:  (8, 11)\n",
      "[(2, 1), (1, 2), (3, 8), (8, 11), (24, 20)]\n",
      "Para K = 2 a saída é:  (1, 2)\n",
      "Para K = 3 a saída é:  (3, 8)\n",
      "Para K = 4 a saída é:  (8, 11)\n"
     ]
    }
   ],
   "source": [
    "def F(n):\n",
    "    if n == 1:\n",
    "        return 2\n",
    "    elif n == 2:\n",
    "        return 1\n",
    "\n",
    "    else:\n",
    "        fN = 2 * F(n - 1) + G(n - 2)\n",
    "        return fN\n",
    "\n",
    "\n",
    "def G(n):\n",
    "    if n == 1 or n == 2:\n",
    "        return n\n",
    "    else:\n",
    "        gN = G(n - 1) + 3 * F(n - 2)\n",
    "        return gN\n",
    "\n",
    "\n",
    "def K(n):\n",
    "    if n > 0:\n",
    "        return F(n), G(n)\n",
    "\n",
    "\n",
    "print('Para K = 2 a saída é: ', K(2))\n",
    "print('Para K = 3 a saída é: ', K(3))\n",
    "print('Para K = 4 a saída é: ', K(4))\n",
    "\n",
    "ListComprehension = [(F(n), G(n)) for n in range(1, 6)]\n",
    "print(ListComprehension)\n",
    "\n",
    "f_lambda = lambda x: 2 if x == 1 else (1 if x == 2 else 2 * F(x - 1) + G(x - 2))\n",
    "g_lambda = lambda x: x if (x == 1 or x == 2) else G(x - 1) + 3 * F(x - 2)\n",
    "k_lambda = lambda x: (F(x), G(x)) if x > 0 else None\n",
    "\n",
    "print('Para K = 2 a saída é: ', k_lambda(2))\n",
    "print('Para K = 3 a saída é: ', k_lambda(3))\n",
    "print('Para K = 4 a saída é: ', k_lambda(4))\n"
   ]
  },
  {
   "cell_type": "code",
   "execution_count": null,
   "metadata": {},
   "outputs": [],
   "source": []
  }
 ],
 "metadata": {
  "kernelspec": {
   "display_name": "Python 3",
   "language": "python",
   "name": "python3"
  },
  "language_info": {
   "codemirror_mode": {
    "name": "ipython",
    "version": 3
   },
   "file_extension": ".py",
   "mimetype": "text/x-python",
   "name": "python",
   "nbconvert_exporter": "python",
   "pygments_lexer": "ipython3",
   "version": "3.7.6"
  }
 },
 "nbformat": 4,
 "nbformat_minor": 4
}
