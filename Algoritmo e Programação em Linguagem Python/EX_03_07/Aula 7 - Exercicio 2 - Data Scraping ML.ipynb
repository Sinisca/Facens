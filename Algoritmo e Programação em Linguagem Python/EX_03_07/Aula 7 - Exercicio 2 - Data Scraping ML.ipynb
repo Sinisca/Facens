{
 "cells": [
  {
   "cell_type": "markdown",
   "metadata": {},
   "source": [
    "# Aula 6 - Exercício 1 - Data Scraping ML\n",
    " \n",
    "\n",
    "## o Mercado Livre é uma empresa de tecnologia que tem como objetivo democratizar o comércio eletrônico oferecendo a melhor plataforma e os serviços necessários para que pessoas e empresas possam comprar, pagar, vender, enviar, anunciar e gerir seus negócios na Internet.\n",
    "\n",
    "## Nascida em 1999, na Argentina, e atualmente, opera em 18 países. O site MercadoLivre.com é o maior da América Latina, reunindo milhões de vendedores e compradores a partir de mais de 60 milhões de ofertas de produtos, automóveis e serviços em tempo real\n",
    "\n",
    "## O site registra também seis mil buscas e nove vendas por segundo, sendo que 90% dos produtos vendidos são novos. Esses números impactam diretamente a economia brasileira, onde mais de 111 mil pessoas vivem de renda única ou principal, proveniente do Mercado Livre. No país temos 15.480 vendedores com faturamento que permite sustentar 98.648 postos de trabalho. Esses números representam uma fatia de 0,12% do Produto Interno Bruto (PIB) brasileiro.\n",
    "\n",
    "## Em 2017, superou-se a marca de 211 milhões de usuários registrados na América Latina e uma receita líquida de 1,4 bilhões de dólares graças à consolidação do ecossistema nos países onde atua. Mais de 10 milhões de vendedores e 34 milhões de compradores ativos.\n",
    "\n",
    "## No marketplace, em 2017, registrou-se 6.000 buscas por segundo e nove compras por segundo e fechou o ano com mais de 3.000 lojas oficiais de marcas de categorias das mais diversas.\n",
    "\n",
    "## Somente no Brasil, o MercadoLivre.com é o 5º site mais acessado da Internet, com 52 milhões de visitantes únicos por mês. É o maior site de comércio eletrônico do Brasil e ocupa posição de destaque no ranking dos 10 sites de maior audiência no país, segundo estudo da ComScore de janeiro de 2018.\n",
    "\n",
    "*Fonte:* [MercadoLivre](https://ideias.mercadolivre.com.br/sobre-mercado-livre/tudo-o-que-voce-precisa-saber-sobre-o-mercado-livre/)\n",
    "<hr> "
   ]
  },
  {
   "cell_type": "markdown",
   "metadata": {},
   "source": [
    "## Usando o Mercado Livre como fonte de informações, para uma pesquisa sobre televisores 4K, efetue a busca pelo produto através da url:\n",
    "\n",
    "## https://eletronicos.mercadolivre.com.br/tv/4k/\n",
    "\n",
    "## O objetivo é montar um dataset com informações relevantes como título do anúncio, fabricante, modelo, tamanho da TV e valor do anúncio\n",
    "\n",
    "## Ao final grave o dataset no arquivo ml.csv\n",
    "<hr>"
   ]
  },
  {
   "cell_type": "code",
   "execution_count": null,
   "metadata": {},
   "outputs": [],
   "source": []
  }
 ],
 "metadata": {
  "kernelspec": {
   "display_name": "Python 3",
   "language": "python",
   "name": "python3"
  },
  "language_info": {
   "codemirror_mode": {
    "name": "ipython",
    "version": 3
   },
   "file_extension": ".py",
   "mimetype": "text/x-python",
   "name": "python",
   "nbconvert_exporter": "python",
   "pygments_lexer": "ipython3",
   "version": "3.7.6"
  }
 },
 "nbformat": 4,
 "nbformat_minor": 2
}
