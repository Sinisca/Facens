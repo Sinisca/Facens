{
 "cells": [
  {
   "cell_type": "markdown",
   "metadata": {
    "_uuid": "c7b58b500e937f7d0f80b1920b86b86d054634e7"
   },
   "source": [
    "## Métricas de desempenho\n",
    "\n",
    "As métricas de desempenho auxiliam a entender como um determinado se comporta ao identificar padrões de um conjunto de dados. Nem sempre identificar apenas a acurácia de um problema é suficiente. Muitas vezes é necessário identificar se a classe crítica de um problema (quando houver) está sendo considerada na escolha de um modelo."
   ]
  },
  {
   "cell_type": "markdown",
   "metadata": {
    "_cell_guid": "b1076dfc-b9ad-4769-8c92-a6c4dae69d19",
    "_uuid": "8f2839f25d086af736a60e9eeb907d3b93b6e0e5"
   },
   "source": [
    "Utilizando o conjunto de dados de câncer de mama, o objetivo deste notebook é avaliar as métricas de desempenho."
   ]
  },
  {
   "cell_type": "code",
   "execution_count": 5,
   "metadata": {
    "_cell_guid": "79c7e3d0-c299-4dcb-8224-4455121ee9b0",
    "_uuid": "d629ff2d2480ee46fbb7e2d37f6b5fab8052498a"
   },
   "outputs": [],
   "source": [
    "from sklearn.datasets import load_breast_cancer\n",
    "bc = load_breast_cancer()\n",
    "\n",
    "data = bc.data\n",
    "target = bc.target"
   ]
  },
  {
   "cell_type": "code",
   "execution_count": 6,
   "metadata": {},
   "outputs": [
    {
     "name": "stdout",
     "output_type": "stream",
     "text": [
      "(569, 30)\n"
     ]
    }
   ],
   "source": [
    "print(data.shape)"
   ]
  },
  {
   "cell_type": "code",
   "execution_count": 7,
   "metadata": {},
   "outputs": [
    {
     "name": "stdout",
     "output_type": "stream",
     "text": [
      "[0 1]\n"
     ]
    }
   ],
   "source": [
    "import numpy as np\n",
    "print(np.unique(target))"
   ]
  },
  {
   "cell_type": "markdown",
   "metadata": {},
   "source": [
    "Inicialmente, é necessário criar uma divisão dos dados em treino e teste para analisar o desempenho de algum método de classificação através de alguma métrica. Para isso, considere a divisão de 33% para teste e o método de classificação k-NN."
   ]
  },
  {
   "cell_type": "code",
   "execution_count": 8,
   "metadata": {
    "_uuid": "90beb882502d5f323484877012f765f1c0b230c5"
   },
   "outputs": [
    {
     "data": {
      "text/plain": [
       "KNeighborsClassifier(algorithm='auto', leaf_size=30, metric='minkowski',\n",
       "           metric_params=None, n_jobs=None, n_neighbors=8, p=2,\n",
       "           weights='uniform')"
      ]
     },
     "execution_count": 8,
     "metadata": {},
     "output_type": "execute_result"
    }
   ],
   "source": [
    "# separando os dados em treino e teste\n",
    "from sklearn.model_selection import train_test_split\n",
    "X_train, X_test, y_train, y_test = train_test_split(data, target, test_size=0.33, random_state=42)\n",
    "\n",
    "# treinando o modelo \n",
    "from sklearn.neighbors import KNeighborsClassifier\n",
    "knn = KNeighborsClassifier(n_neighbors=8)\n",
    "knn.fit(X_train, y_train)"
   ]
  },
  {
   "cell_type": "markdown",
   "metadata": {},
   "source": [
    "Após o treinamento, as métricas de desempenho são obtidas ao analisar amostra por amostra a relação entre o rótulo conhecido (y_train ou y_test) e o rótulo informado (y_pred) pelo método de classificação. Para identificar a acurácia, basta encontrar a relação de rótulos corretamente predizidos."
   ]
  },
  {
   "cell_type": "markdown",
   "metadata": {},
   "source": [
    "**Curva ROC (Receiving Operating Characteristic)**\n",
    "\n",
    "Um modelo classificador binário geralmente retorna o nível de confiança que o resultado retornado realmente seja de uma determinada classe - variando de 0 a 1,0. Mas a partir de qual nível de confiança pode-se obter o melhor resultado do classificador? Devemos simplesmente considerar que se o nível de confiança for > 0.50 então a classe é 1, senão a classe é 0?\n",
    "\n",
    "Na curva ROC plotamos as taxas de verdadeiros positivos e falsos positivos para cada threshold utilizado. A área sob a curva (Area Under de Curve - AUC) fornece uma boa avaliação sobre a performance do modelo, mesmo que se utilize outros thresholds."
   ]
  },
  {
   "cell_type": "code",
   "execution_count": 10,
   "metadata": {},
   "outputs": [
    {
     "name": "stdout",
     "output_type": "stream",
     "text": [
      "[[0.25  0.75 ]\n",
      " [1.    0.   ]\n",
      " [1.    0.   ]\n",
      " [0.    1.   ]\n",
      " [0.    1.   ]\n",
      " [1.    0.   ]\n",
      " [1.    0.   ]\n",
      " [0.875 0.125]\n",
      " [0.    1.   ]\n",
      " [0.125 0.875]\n",
      " [0.    1.   ]\n",
      " [1.    0.   ]\n",
      " [0.25  0.75 ]\n",
      " [0.375 0.625]\n",
      " [0.    1.   ]\n",
      " [1.    0.   ]\n",
      " [0.25  0.75 ]\n",
      " [0.    1.   ]\n",
      " [0.    1.   ]\n",
      " [1.    0.   ]\n",
      " [0.625 0.375]\n",
      " [0.    1.   ]\n",
      " [1.    0.   ]\n",
      " [0.    1.   ]\n",
      " [0.    1.   ]\n",
      " [0.    1.   ]\n",
      " [0.    1.   ]\n",
      " [0.    1.   ]\n",
      " [0.    1.   ]\n",
      " [1.    0.   ]\n",
      " [0.    1.   ]\n",
      " [0.    1.   ]\n",
      " [0.    1.   ]\n",
      " [0.5   0.5  ]\n",
      " [0.    1.   ]\n",
      " [0.    1.   ]\n",
      " [1.    0.   ]\n",
      " [0.    1.   ]\n",
      " [1.    0.   ]\n",
      " [0.25  0.75 ]\n",
      " [0.    1.   ]\n",
      " [1.    0.   ]\n",
      " [0.    1.   ]\n",
      " [0.    1.   ]\n",
      " [0.    1.   ]\n",
      " [0.    1.   ]\n",
      " [0.    1.   ]\n",
      " [0.    1.   ]\n",
      " [0.    1.   ]\n",
      " [0.    1.   ]\n",
      " [1.    0.   ]\n",
      " [1.    0.   ]\n",
      " [0.    1.   ]\n",
      " [0.    1.   ]\n",
      " [0.    1.   ]\n",
      " [0.    1.   ]\n",
      " [0.    1.   ]\n",
      " [1.    0.   ]\n",
      " [0.375 0.625]\n",
      " [0.    1.   ]\n",
      " [0.    1.   ]\n",
      " [1.    0.   ]\n",
      " [1.    0.   ]\n",
      " [0.375 0.625]\n",
      " [0.    1.   ]\n",
      " [0.    1.   ]\n",
      " [1.    0.   ]\n",
      " [1.    0.   ]\n",
      " [0.    1.   ]\n",
      " [0.    1.   ]\n",
      " [0.625 0.375]\n",
      " [1.    0.   ]\n",
      " [0.    1.   ]\n",
      " [0.375 0.625]\n",
      " [0.    1.   ]\n",
      " [0.    1.   ]\n",
      " [0.125 0.875]\n",
      " [0.625 0.375]\n",
      " [0.    1.   ]\n",
      " [0.    1.   ]\n",
      " [1.    0.   ]\n",
      " [0.    1.   ]\n",
      " [0.5   0.5  ]\n",
      " [1.    0.   ]\n",
      " [1.    0.   ]\n",
      " [0.75  0.25 ]\n",
      " [0.75  0.25 ]\n",
      " [1.    0.   ]\n",
      " [0.    1.   ]\n",
      " [0.    1.   ]\n",
      " [0.    1.   ]\n",
      " [0.    1.   ]\n",
      " [0.25  0.75 ]\n",
      " [0.    1.   ]\n",
      " [0.    1.   ]\n",
      " [0.    1.   ]\n",
      " [1.    0.   ]\n",
      " [1.    0.   ]\n",
      " [0.    1.   ]\n",
      " [1.    0.   ]\n",
      " [1.    0.   ]\n",
      " [0.    1.   ]\n",
      " [1.    0.   ]\n",
      " [1.    0.   ]\n",
      " [0.25  0.75 ]\n",
      " [0.125 0.875]\n",
      " [0.    1.   ]\n",
      " [1.    0.   ]\n",
      " [0.5   0.5  ]\n",
      " [0.25  0.75 ]\n",
      " [1.    0.   ]\n",
      " [0.    1.   ]\n",
      " [0.375 0.625]\n",
      " [1.    0.   ]\n",
      " [0.    1.   ]\n",
      " [1.    0.   ]\n",
      " [0.    1.   ]\n",
      " [0.    1.   ]\n",
      " [0.    1.   ]\n",
      " [0.75  0.25 ]\n",
      " [0.5   0.5  ]\n",
      " [0.    1.   ]\n",
      " [0.    1.   ]\n",
      " [1.    0.   ]\n",
      " [0.    1.   ]\n",
      " [1.    0.   ]\n",
      " [1.    0.   ]\n",
      " [0.    1.   ]\n",
      " [0.    1.   ]\n",
      " [1.    0.   ]\n",
      " [1.    0.   ]\n",
      " [0.5   0.5  ]\n",
      " [0.375 0.625]\n",
      " [0.    1.   ]\n",
      " [0.75  0.25 ]\n",
      " [1.    0.   ]\n",
      " [0.    1.   ]\n",
      " [0.    1.   ]\n",
      " [0.375 0.625]\n",
      " [1.    0.   ]\n",
      " [0.    1.   ]\n",
      " [1.    0.   ]\n",
      " [0.    1.   ]\n",
      " [0.    1.   ]\n",
      " [0.75  0.25 ]\n",
      " [0.    1.   ]\n",
      " [1.    0.   ]\n",
      " [1.    0.   ]\n",
      " [0.875 0.125]\n",
      " [0.    1.   ]\n",
      " [1.    0.   ]\n",
      " [0.    1.   ]\n",
      " [0.    1.   ]\n",
      " [0.    1.   ]\n",
      " [0.    1.   ]\n",
      " [1.    0.   ]\n",
      " [1.    0.   ]\n",
      " [0.    1.   ]\n",
      " [0.25  0.75 ]\n",
      " [0.    1.   ]\n",
      " [0.    1.   ]\n",
      " [0.    1.   ]\n",
      " [0.    1.   ]\n",
      " [0.    1.   ]\n",
      " [0.625 0.375]\n",
      " [0.    1.   ]\n",
      " [0.    1.   ]\n",
      " [0.25  0.75 ]\n",
      " [0.    1.   ]\n",
      " [0.625 0.375]\n",
      " [0.125 0.875]\n",
      " [0.125 0.875]\n",
      " [0.    1.   ]\n",
      " [0.375 0.625]\n",
      " [0.    1.   ]\n",
      " [0.125 0.875]\n",
      " [0.875 0.125]\n",
      " [0.25  0.75 ]\n",
      " [0.125 0.875]\n",
      " [0.375 0.625]\n",
      " [0.125 0.875]\n",
      " [0.    1.   ]\n",
      " [0.    1.   ]\n",
      " [1.    0.   ]\n",
      " [1.    0.   ]\n",
      " [0.625 0.375]\n",
      " [0.375 0.625]\n",
      " [0.125 0.875]]\n"
     ]
    }
   ],
   "source": [
    "probas = knn.predict_proba(X_test)\n",
    "print(probas)"
   ]
  },
  {
   "cell_type": "code",
   "execution_count": 12,
   "metadata": {},
   "outputs": [
    {
     "data": {
      "image/png": "[encoded data removed]",
      "text/plain": [
       "<Figure size 432x288 with 1 Axes>"
      ]
     },
     "metadata": {
      "needs_background": "light"
     },
     "output_type": "display_data"
    }
   ],
   "source": [
    "from sklearn.metrics import roc_curve, auc\n",
    "import matplotlib.pyplot as plt\n",
    "\n",
    "fpr, tpr, thresholds = roc_curve(y_test[:], probas[:,1])\n",
    "roc_auc = auc(fpr, tpr)\n",
    "\n",
    "plt.plot([0, 1], [0, 1], '--', color=(0.6, 0.6, 0.6), label='Aleatório')\n",
    "plt.plot(fpr, tpr, lw=1, label='ROC (area = %0.2f)' % roc_auc)\n",
    "\n",
    "plt.xlim([-0.05, 1.05])\n",
    "plt.ylim([-0.05, 1.05])\n",
    "plt.xlabel('Falsos Positivos')\n",
    "plt.ylabel('Positivos Verdadeiros')\n",
    "plt.title('ROC do KNN')\n",
    "plt.legend(loc=\"lower right\")\n",
    "plt.show()\n"
   ]
  },
  {
   "cell_type": "code",
   "execution_count": 13,
   "metadata": {
    "scrolled": true
   },
   "outputs": [
    {
     "name": "stdout",
     "output_type": "stream",
     "text": [
      "tp = 0.00, fp = 0.00, t=2.00\n",
      "tp = 0.75, fp = 0.00, t=1.00\n",
      "tp = 0.83, fp = 0.00, t=0.88\n",
      "tp = 0.91, fp = 0.00, t=0.75\n",
      "tp = 0.97, fp = 0.04, t=0.62\n",
      "tp = 0.99, fp = 0.07, t=0.50\n",
      "tp = 0.99, fp = 0.16, t=0.38\n",
      "tp = 1.00, fp = 0.22, t=0.25\n",
      "tp = 1.00, fp = 0.27, t=0.12\n",
      "tp = 1.00, fp = 1.00, t=0.00\n"
     ]
    }
   ],
   "source": [
    "for tp, fp, t in zip(tpr, fpr, thresholds):\n",
    "    print('tp = %.2f, fp = %.2f, t=%.2f' % (tp, fp, t))"
   ]
  },
  {
   "cell_type": "markdown",
   "metadata": {},
   "source": [
    "***Teste Estatístico de McNemmar***\n",
    "\n",
    "Este teste permite verificar se dois modelos possuem a mesma proporção de erros.\n",
    "\n",
    "Temos nossa hipótese nula H0: dois modelos possuem a mesma proporção de erros.\n",
    "\n",
    "- Se essa hipótese for rejeitada, temos que os dois modelos apresentam proporções de erro diferentes, logo eles são estatisticamente diferentes (o melhor é o que apresentar melhores resultados, de acordo com outras métricas)\n",
    "- Se falharmos em rejeitar essa hipótese, então não é possível afirmar que os modelos tem resultados diferentes.\n",
    "\n",
    "Primeiro precisamos montar a matriz de contingência."
   ]
  },
  {
   "cell_type": "code",
   "execution_count": 27,
   "metadata": {},
   "outputs": [],
   "source": [
    "def build_contingence_table(Y, Y_pred_1, Y_pred_2):\n",
    "    y1_and_y2 = 0\n",
    "    y1_and_not_y2 = 0\n",
    "    y2_and_not_y1 = 0\n",
    "    not_y1_and_not_y2 = 0\n",
    "    for y, y1, y2 in zip(Y, Y_pred_1, Y_pred_2):\n",
    "        if y == y1 == y2:\n",
    "            y1_and_y2 += 1\n",
    "        elif y != y1 and y != y2:\n",
    "            not_y1_and_not_y2 += 1\n",
    "        elif y == y1 and y != y2:\n",
    "            y1_and_not_y2 += 1\n",
    "        elif y != y1 and y == y2:\n",
    "            y2_and_not_y1 += 1\n",
    "            \n",
    "    contingency_table = [[y1_and_y2, y1_and_not_y2], \n",
    "                         [y2_and_not_y1, not_y1_and_not_y2]]\n",
    "    \n",
    "    return contingency_table"
   ]
  },
  {
   "cell_type": "code",
   "execution_count": 25,
   "metadata": {},
   "outputs": [],
   "source": [
    "from statsmodels.stats.contingency_tables import mcnemar"
   ]
  },
  {
   "cell_type": "code",
   "execution_count": 28,
   "metadata": {},
   "outputs": [],
   "source": [
    "knn2 = KNeighborsClassifier(n_neighbors=2)\n",
    "knn2.fit(X_train, y_train)\n",
    "\n",
    "knn3 = KNeighborsClassifier(n_neighbors=3)\n",
    "knn3.fit(X_train, y_train)\n",
    "\n",
    "y_pred2 = knn2.predict(X_test)\n",
    "y_pred3 = knn3.predict(X_test)"
   ]
  },
  {
   "cell_type": "code",
   "execution_count": 29,
   "metadata": {},
   "outputs": [
    {
     "name": "stdout",
     "output_type": "stream",
     "text": [
      "[[170, 3], [7, 8]]\n"
     ]
    }
   ],
   "source": [
    "contingence_table = build_contingence_table(y_test, y_pred2, y_pred3)\n",
    "\n",
    "import pprint\n",
    "\n",
    "pprint.pprint(contingence_table)"
   ]
  },
  {
   "cell_type": "code",
   "execution_count": 31,
   "metadata": {},
   "outputs": [
    {
     "name": "stdout",
     "output_type": "stream",
     "text": [
      "statistic=3.000, p-value=0.344\n",
      "Mesma proporção de erros (falhou em rejeitar H0)\n"
     ]
    }
   ],
   "source": [
    "result = mcnemar(contingence_table, exact=True)\n",
    "    \n",
    "    \n",
    "if result.pvalue >= 0.001:\n",
    "    print('statistic=%.3f, p-value=%.3f' % (result.statistic, result.pvalue))\n",
    "else:\n",
    "    print('statistic=%.3f, p-value=%.3e' % (result.statistic, result.pvalue))\n",
    "\n",
    "# interpretando o p-value\n",
    "alpha = 0.05\n",
    "if result.pvalue > alpha:\n",
    "    print('Mesma proporção de erros (falhou em rejeitar H0)')\n",
    "else:\n",
    "    print('Proporções de erros diferentes (rejeitou H0)')"
   ]
  },
  {
   "cell_type": "markdown",
   "metadata": {},
   "source": [
    "# Exercícios"
   ]
  },
  {
   "cell_type": "markdown",
   "metadata": {},
   "source": [
    "(1) Plote o ROC do resultado para k=3 e k=10"
   ]
  },
  {
   "cell_type": "code",
   "execution_count": null,
   "metadata": {},
   "outputs": [],
   "source": []
  },
  {
   "cell_type": "code",
   "execution_count": null,
   "metadata": {},
   "outputs": [],
   "source": []
  },
  {
   "cell_type": "code",
   "execution_count": null,
   "metadata": {},
   "outputs": [],
   "source": []
  },
  {
   "cell_type": "markdown",
   "metadata": {
    "_uuid": "e8240c0485b01f706d7d2f2476c2056614c0cf0f"
   },
   "source": [
    "(2) Use o teste de McNemmar e responda: Comparando todos os modelos treinados com k=2 até k=10, quais pares de modelos apresentam resultados estatisticamente diferentes?"
   ]
  },
  {
   "cell_type": "code",
   "execution_count": null,
   "metadata": {},
   "outputs": [],
   "source": []
  },
  {
   "cell_type": "code",
   "execution_count": null,
   "metadata": {},
   "outputs": [],
   "source": []
  },
  {
   "cell_type": "code",
   "execution_count": null,
   "metadata": {},
   "outputs": [],
   "source": []
  }
 ],
 "metadata": {
  "kernelspec": {
   "display_name": "Python 3",
   "language": "python",
   "name": "python3"
  },
  "language_info": {
   "codemirror_mode": {
    "name": "ipython",
    "version": 3
   },
   "file_extension": ".py",
   "mimetype": "text/x-python",
   "name": "python",
   "nbconvert_exporter": "python",
   "pygments_lexer": "ipython3",
   "version": "3.7.6"
  }
 },
 "nbformat": 4,
 "nbformat_minor": 1
}
